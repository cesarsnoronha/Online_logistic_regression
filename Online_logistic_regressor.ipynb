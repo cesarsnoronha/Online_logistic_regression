{
 "cells": [
  {
   "cell_type": "markdown",
   "id": "90010a3a",
   "metadata": {},
   "source": [
    "Question 11 of DS questionnaire proposed to César Augusto Noronha on 10/29/2021\n",
    "\n",
    "Database: Data from Pima Indians Diabetes Database (2016)\n",
    "\n",
    "Python: You need to implement a logistic regression classifier with online learning where some of the weights might be fixed at times during learning. How would you do this? \n",
    "\n",
    "Instructions: You need to have the file \"diabetes.csv\" on the same folder of this file on Jupyter notebooks. Run the sequence below. On the last part (5/5) you may use the model created to predict values, you may update the database and retrains it and you may change the weights manually."
   ]
  },
  {
   "cell_type": "markdown",
   "id": "f0c62fc1",
   "metadata": {},
   "source": [
    "# Importing libraries 1/4"
   ]
  },
  {
   "cell_type": "code",
   "execution_count": 1,
   "id": "8db3093f",
   "metadata": {},
   "outputs": [],
   "source": [
    "# importing necessary libraries\n",
    "import matplotlib.pyplot as plt\n",
    "%matplotlib inline\n",
    "from sklearn.model_selection import train_test_split\n",
    "from sklearn.linear_model import LogisticRegression\n",
    "from sklearn import metrics\n",
    "import pandas as pd\n",
    "import numpy as np\n",
    "import seaborn as sns\n",
    "import pickle\n",
    "from ipywidgets import widgets, HBox, VBox\n",
    "from IPython.display import display"
   ]
  },
  {
   "cell_type": "markdown",
   "id": "a8f5e658",
   "metadata": {},
   "source": [
    "# Preparing Dataframes & variables 2/4"
   ]
  },
  {
   "cell_type": "code",
   "execution_count": 2,
   "id": "52a3911b",
   "metadata": {},
   "outputs": [],
   "source": [
    "# Donwloading Databases files and preparing it.\n",
    "\n",
    "# Data from Pima Indians Diabetes Database (2016)\n",
    "col_names = ['pregnant', 'glucose', 'bp', 'skin', 'insulin', 'bmi', 'pedigree', 'age', 'label']\n",
    "# load dataset, ajust  columns' names\n",
    "pima_raw = pd.read_csv(\"diabetes.csv\")\n",
    "pima_raw.columns = col_names\n",
    "input_columns = ['pregnant', 'insulin', 'bmi', 'age','glucose','bp','pedigree', 'label']\n",
    "pima_raw = pima_raw[input_columns]\n",
    "\n",
    "pima,pima_extra = pima_raw.iloc[0:-10],pima_raw.iloc[-10:] #later we may implement add from 10 extra\n",
    "\n",
    "#split dataset in features and target variable\n",
    "feature_cols = ['pregnant', 'insulin', 'bmi', 'age','glucose','bp','pedigree']\n",
    "X = pima[feature_cols] # Features\n",
    "y = pima.label # Target variables \n",
    "\n",
    "accumulated_cases = 0\n",
    "temp_data = pd.DataFrame(data=None, columns=input_columns, index=None)"
   ]
  },
  {
   "cell_type": "code",
   "execution_count": 3,
   "id": "e35e3178",
   "metadata": {},
   "outputs": [
    {
     "data": {
      "text/html": [
       "<div>\n",
       "<style scoped>\n",
       "    .dataframe tbody tr th:only-of-type {\n",
       "        vertical-align: middle;\n",
       "    }\n",
       "\n",
       "    .dataframe tbody tr th {\n",
       "        vertical-align: top;\n",
       "    }\n",
       "\n",
       "    .dataframe thead th {\n",
       "        text-align: right;\n",
       "    }\n",
       "</style>\n",
       "<table border=\"1\" class=\"dataframe\">\n",
       "  <thead>\n",
       "    <tr style=\"text-align: right;\">\n",
       "      <th></th>\n",
       "      <th>pregnant</th>\n",
       "      <th>insulin</th>\n",
       "      <th>bmi</th>\n",
       "      <th>age</th>\n",
       "      <th>glucose</th>\n",
       "      <th>bp</th>\n",
       "      <th>pedigree</th>\n",
       "      <th>label</th>\n",
       "    </tr>\n",
       "  </thead>\n",
       "  <tbody>\n",
       "  </tbody>\n",
       "</table>\n",
       "</div>"
      ],
      "text/plain": [
       "Empty DataFrame\n",
       "Columns: [pregnant, insulin, bmi, age, glucose, bp, pedigree, label]\n",
       "Index: []"
      ]
     },
     "execution_count": 3,
     "metadata": {},
     "output_type": "execute_result"
    }
   ],
   "source": [
    "temp_data"
   ]
  },
  {
   "cell_type": "markdown",
   "id": "01fc0327",
   "metadata": {},
   "source": [
    "# Training model 3/4"
   ]
  },
  {
   "cell_type": "code",
   "execution_count": 4,
   "id": "e7d6538d",
   "metadata": {},
   "outputs": [
    {
     "name": "stdout",
     "output_type": "stream",
     "text": [
      "Accuracy: 0.8316\n",
      "Precision: 0.78\n",
      "Recall: 0.65\n"
     ]
    }
   ],
   "source": [
    "# split X and y into training and testing sets\n",
    "X_train,X_test,y_train,y_test=train_test_split(X,y,test_size=0.25,random_state=0)\n",
    "# instantiate the model (using the default parameters)\n",
    "model_main = LogisticRegression(max_iter=1000)\n",
    "# fit the model with data\n",
    "model_main.fit(X_train,y_train)\n",
    "\n",
    "output = open('Diabetes_model', 'wb') # Creating file\n",
    "pickle.dump(model_main, output) # saving file\n",
    "output.close()\n",
    "\n",
    "# testing model\n",
    "y_pred=model_main.predict(X_test)\n",
    "\n",
    "# model results\n",
    "model_accuracy = metrics.accuracy_score(y_test, y_pred)\n",
    "precision = metrics.precision_score(y_test, y_pred)\n",
    "recall = metrics.recall_score(y_test, y_pred)\n",
    "\n",
    "print(\"Accuracy:\",model_accuracy.round(4))\n",
    "print(\"Precision:\",precision)\n",
    "print(\"Recall:\",recall.round(4))"
   ]
  },
  {
   "cell_type": "markdown",
   "id": "a1366b9b",
   "metadata": {},
   "source": [
    "# Plotting metrics 4/4"
   ]
  },
  {
   "cell_type": "code",
   "execution_count": 5,
   "id": "a344a38b",
   "metadata": {},
   "outputs": [
    {
     "data": {
      "text/plain": [
       "Text(0.5, 257.44, 'Predicted label')"
      ]
     },
     "execution_count": 5,
     "metadata": {},
     "output_type": "execute_result"
    },
    {
     "data": {
      "image/png": "[encoded data removed]",
      "text/plain": [
       "<Figure size 432x288 with 2 Axes>"
      ]
     },
     "metadata": {
      "needs_background": "light"
     },
     "output_type": "display_data"
    }
   ],
   "source": [
    "#Creating a confusion matric Matrix\n",
    "cnf_matrix = metrics.confusion_matrix(y_test, y_pred)\n",
    "class_names=[0,1] # name  of classes\n",
    "fig, ax = plt.subplots()\n",
    "tick_marks = np.arange(len(class_names))\n",
    "plt.xticks(tick_marks, class_names)\n",
    "plt.yticks(tick_marks, class_names)\n",
    "# create heatmap\n",
    "sns.heatmap(pd.DataFrame(cnf_matrix), annot=True, cmap=\"YlGnBu\" ,fmt='g')\n",
    "ax.xaxis.set_label_position(\"top\")\n",
    "plt.tight_layout()\n",
    "plt.title('Confusion matrix', y=1.1)\n",
    "plt.ylabel('Actual label')\n",
    "plt.xlabel('Predicted label')"
   ]
  },
  {
   "cell_type": "markdown",
   "id": "a9f404fe",
   "metadata": {},
   "source": [
    "# Button 1 configuration 1/5\n",
    "button uses the model to preview one result"
   ]
  },
  {
   "cell_type": "code",
   "execution_count": 6,
   "id": "750fa870",
   "metadata": {},
   "outputs": [],
   "source": [
    "# Button 1\n",
    "\n",
    "# Button variables\n",
    "pregnant1 = widgets.Text(description=\"pregnant\")\n",
    "insulin1 = widgets.Text(description=\"insulin\")\n",
    "bmi1 = widgets.Text(description=\"bmi\")\n",
    "age1 = widgets.Text(description=\"age\")\n",
    "glucose1 = widgets.Text(description=\"glucose\")\n",
    "bp1 = widgets.Text(description=\"bp\")\n",
    "pedigree1 = widgets.Text(description=\"pedigree\")\n",
    "button1 = widgets.Button(description=\"Predict\")\n",
    "\n",
    "# What the botton does\n",
    "def simulator1(sender):\n",
    "    entry=[[\n",
    "                # Receiving inputs\n",
    "                float(pregnant1.value if pregnant1.value else 0), \n",
    "                float(insulin1.value if insulin1.value else 0), \n",
    "                float(bmi1.value if bmi1.value else 0),       \n",
    "                float(age1.value if age1.value else 0), \n",
    "                float(glucose1.value if glucose1.value else 0), \n",
    "                float(bp1.value if bp1.value else 0),     \n",
    "                float(pedigree1.value if pedigree1.value else 0)  \n",
    "                \n",
    "             ]]\n",
    "    if model_main.predict(entry)[0] == 1:\n",
    "        print('The model appoints the subjet has Diabetes')\n",
    "    else:\n",
    "        print('The model appoints the subjet does not have Diabetes')\n",
    "        \n",
    "top = VBox([pregnant1, insulin1, bmi1, age1,glucose1,bp1,pedigree1])\n",
    "button1.on_click(simulator1) \n",
    "top1 = HBox([top, button1])"
   ]
  },
  {
   "cell_type": "markdown",
   "id": "bd74b469",
   "metadata": {},
   "source": [
    "# Button 2 configuration 2/5\n",
    "writes and adds samples to the data, after receive 3 new samples, it retrains the model"
   ]
  },
  {
   "cell_type": "code",
   "execution_count": 7,
   "id": "6e9b4ecc",
   "metadata": {},
   "outputs": [],
   "source": [
    "# Button 2\n",
    "pregnant2 = widgets.Text(description=\"pregnant\")\n",
    "insulin2 = widgets.Text(description=\"insulin\")\n",
    "bmi2 = widgets.Text(description=\"bmi\")\n",
    "age2 = widgets.Text(description=\"age\")\n",
    "glucose2 = widgets.Text(description=\"glucose\")\n",
    "bp2 = widgets.Text(description=\"bp\")\n",
    "pedigree2 = widgets.Text(description=\"pedigree\")\n",
    "label2 = widgets.Text(description=\"label\")\n",
    "button2 = widgets.Button(description=\"Add to Data\")\n",
    "\n",
    "# What the botton does\n",
    "def simulator2(sender):\n",
    "    global accumulated_cases, model_main, R_model, beer_data_to_train, temp_data\n",
    "    #import variables from outside the function\n",
    "    entry=[[\n",
    "                float(pregnant2.value if pregnant2.value else 0), \n",
    "                float(insulin2.value if insulin2.value else 0), \n",
    "                float(bmi2.value if bmi2.value else 0),       \n",
    "                float(age2.value if age2.value else 0), \n",
    "                float(glucose2.value if glucose2.value else 0), \n",
    "                float(bp2.value if bp2.value else 0),     \n",
    "                float(pedigree2.value if pedigree2.value else 0),\n",
    "                float(label2.value if label2.value else 0) \n",
    "        \n",
    "             ]]\n",
    "    data_entry = pd.DataFrame(data=entry, columns=input_columns, index=None) \n",
    "    temp_data = temp_data.append(data_entry)\n",
    "    accumulated_cases += 1 \n",
    "    print(\"Data to update on the model:\")\n",
    "    print(temp_data)\n",
    "    #print(temp_data)\n",
    "    #print(data_entry)\n",
    "    if accumulated_cases >= 3:\n",
    "        [model_main, model_accuracy] = retrain(pima,temp_data)\n",
    "        temp_data = pd.DataFrame(data=None, columns=input_columns, index=None) \n",
    "        accumulated_cases = 0\n",
    "     \n",
    "middle = VBox([pregnant2, insulin2, bmi2, age2,glucose2,bp2,pedigree2, label2])\n",
    "button2.on_click(simulator2) \n",
    "middle1 = HBox([middle,button2])"
   ]
  },
  {
   "cell_type": "markdown",
   "id": "ddbea30c",
   "metadata": {},
   "source": [
    "# Button 3 configuration 3/5\n",
    "Allows weights alteration"
   ]
  },
  {
   "cell_type": "code",
   "execution_count": 8,
   "id": "ca291430",
   "metadata": {},
   "outputs": [],
   "source": [
    "model_main.coef_[0][:]\n",
    "\n",
    "\n",
    "# Button 3\n",
    "pregnant3 = widgets.Text(description=\"w pregnant\")\n",
    "insulin3 = widgets.Text(description=\"w insulin\")\n",
    "bmi3 = widgets.Text(description=\"w bmi\")\n",
    "age3 = widgets.Text(description=\"w age\")\n",
    "glucose3 = widgets.Text(description=\"w glucose\")\n",
    "bp3 = widgets.Text(description=\"w bp\")\n",
    "pedigree3 = widgets.Text(description=\"w pedigree\")\n",
    "button3 = widgets.Button(description=\"Update weights\")\n",
    "button4 = widgets.Button(description=\"Print weights\")\n",
    "\n",
    "# What the botton does\n",
    "def simulator3(sender):\n",
    "    global accumulated_cases, model_main, R_model, beer_data_to_train, temp_data\n",
    "    #import variables from outside the function\n",
    "    entry=[[\n",
    "                float(pregnant3.value if pregnant3.value else model_main.coef_[0][0]), \n",
    "                float(insulin3.value if insulin3.value else model_main.coef_[0][1]), \n",
    "                float(bmi3.value if bmi3.value else model_main.coef_[0][2]),       \n",
    "                float(age3.value if age3.value else model_main.coef_[0][3]), \n",
    "                float(glucose3.value if glucose3.value else model_main.coef_[0][4]), \n",
    "                float(bp3.value if bp3.value else model_main.coef_[0][5]),     \n",
    "                float(pedigree3.value if pedigree3.value else model_main.coef_[0][6]),\n",
    "        \n",
    "             ]]\n",
    "    data_entry = pd.DataFrame(data=entry, columns=None, index=None)\n",
    "    model_main.coef_[0] = data_entry\n",
    "    print('New weights of model: ')\n",
    "    print(model_main.coef_[0])\n",
    "\n",
    "# What the botton does\n",
    "def simulator4(sender):\n",
    "    print(model_main.coef_[0])\n",
    "\n",
    "middle3 = VBox([pregnant3, insulin3, glucose3])\n",
    "middle32 = VBox([age3,bmi3,bp3,pedigree3])\n",
    "middle4 = HBox([middle3, middle32])\n",
    "\n",
    "# buttons setup\n",
    "button3.on_click(simulator3) \n",
    "button4.on_click(simulator4) \n",
    "botton1 = VBox([button3, button4,middle4])"
   ]
  },
  {
   "cell_type": "markdown",
   "id": "7264ec23",
   "metadata": {},
   "source": [
    "# Function Retrain 4/5\n",
    "Fuction that retrains and test the model"
   ]
  },
  {
   "cell_type": "code",
   "execution_count": 9,
   "id": "fba275d9",
   "metadata": {},
   "outputs": [],
   "source": [
    "# Retrain model\n",
    "def retrain(df1,df2):\n",
    "    global model_main, model_accuracy #import variables from outside the function\n",
    "    print('Training new model...')\n",
    "    pima_data_temp = df1.append(df2)\n",
    "    # Creates empty model\n",
    "    model_temp = LogisticRegression(max_iter=1000)\n",
    "    # Train model\n",
    "    y2 = pima_data_temp['label']\n",
    "    X2 = pima_data_temp[['pregnant', 'glucose', 'bp', 'insulin', 'bmi', 'pedigree', 'age']]\n",
    "    X2_train, X2_test, y2_train, y2_test = train_test_split(X2, y2, test_size=0.25, random_state=0) #Split data\n",
    "    model_temp.fit(X2_train, y2_train) # Train model\n",
    "    \n",
    "    \n",
    "    y2_pred = model_temp.predict(X2_test) # tests model\n",
    "    accuracy_temp = metrics.accuracy_score(y2_test, y2_pred)\n",
    "    print('testing new model...')\n",
    "    \n",
    "    # Compares model's results\n",
    "    if accuracy_temp > model_accuracy:\n",
    "        print('We trained a new model with the data, the new accuracy is {0:.2f}'.format(accuracy_temp.round(4)))\n",
    "        model_accuracy, model_main  = accuracy_temp, model_temp\n",
    "    else:\n",
    "        print('The New model isnt a better model, discarting changings')\n",
    "        \n",
    "    return [model_main, model_accuracy]"
   ]
  },
  {
   "cell_type": "markdown",
   "id": "eb59ee4a",
   "metadata": {},
   "source": [
    "# Display 5/5\n",
    "Allows os to add the input information and runs the code"
   ]
  },
  {
   "cell_type": "code",
   "execution_count": 20,
   "id": "8b1eb03c",
   "metadata": {},
   "outputs": [
    {
     "data": {
      "application/vnd.jupyter.widget-view+json": {
       "model_id": "60cf7567510046e1b40e48a00354611d",
       "version_major": 2,
       "version_minor": 0
      },
      "text/plain": [
       "VBox(children=(HBox(children=(VBox(children=(HBox(children=(VBox(children=(Text(value='', description='pregnan…"
      ]
     },
     "metadata": {},
     "output_type": "display_data"
    },
    {
     "name": "stdout",
     "output_type": "stream",
     "text": [
      "The model appoints the subjet does not have Diabetes\n",
      "[ 1.05683829e-01 -7.38874501e-04  7.82463833e-02  1.26501739e-02\n",
      "  3.15166263e-02 -1.28135296e-02  7.71820760e-01]\n",
      "New weights of model: \n",
      "[ 1.05683829e-01 -7.38874501e-04  7.82463833e-02  1.26501739e-02\n",
      "  3.15166263e-02 -1.28135296e-02  7.71820760e-01]\n"
     ]
    }
   ],
   "source": [
    "# Display\n",
    "inputs1 = VBox([top1])\n",
    "inputs2 = VBox([middle1])\n",
    "inputs3 = VBox([botton1 ])\n",
    "\n",
    "inputs4 = HBox([inputs1,inputs2])\n",
    "inputs4 = VBox([inputs4,inputs3])\n",
    "\n",
    "display(inputs4)"
   ]
  },
  {
   "cell_type": "code",
   "execution_count": null,
   "id": "4249c336",
   "metadata": {},
   "outputs": [],
   "source": [
    "\n",
    "    "
   ]
  },
  {
   "cell_type": "code",
   "execution_count": null,
   "id": "b57af5cf",
   "metadata": {},
   "outputs": [],
   "source": []
  },
  {
   "cell_type": "code",
   "execution_count": null,
   "id": "553a8cef",
   "metadata": {},
   "outputs": [],
   "source": []
  }
 ],
 "metadata": {
  "kernelspec": {
   "display_name": "Python 3 (ipykernel)",
   "language": "python",
   "name": "python3"
  },
  "language_info": {
   "codemirror_mode": {
    "name": "ipython",
    "version": 3
   },
   "file_extension": ".py",
   "mimetype": "text/x-python",
   "name": "python",
   "nbconvert_exporter": "python",
   "pygments_lexer": "ipython3",
   "version": "3.8.8"
  }
 },
 "nbformat": 4,
 "nbformat_minor": 5
}
